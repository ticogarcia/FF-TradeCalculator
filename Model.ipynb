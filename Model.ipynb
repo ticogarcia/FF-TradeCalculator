{
 "cells": [
  {
   "cell_type": "code",
   "execution_count": 1,
   "id": "514d0b6c",
   "metadata": {},
   "outputs": [],
   "source": [
    "import pandas as pd\n",
    "import numpy as np"
   ]
  },
  {
   "cell_type": "code",
   "execution_count": 6,
   "id": "eef246ef",
   "metadata": {},
   "outputs": [
    {
     "data": {
      "text/plain": [
       "(8379, 24)"
      ]
     },
     "execution_count": 6,
     "metadata": {},
     "output_type": "execute_result"
    }
   ],
   "source": [
    "# import the data into a df\n",
    "df = pd.read_csv(\"data/learning_data.csv\")\n",
    "data = df.to_numpy()\n",
    "data.shape"
   ]
  },
  {
   "cell_type": "code",
   "execution_count": 11,
   "id": "f5f0451a",
   "metadata": {},
   "outputs": [
    {
     "data": {
      "text/plain": [
       "array([['NOR', 'QB', 29.0, ..., 305.0, 305.0, 1.0],\n",
       "       ['GNB', 'QB', 25.0, ..., 296.0, 296.0, 2.0],\n",
       "       ['SDG', 'QB', 27.0, ..., 287.0, 287.0, 3.0],\n",
       "       ...,\n",
       "       ['SFO', nan, 25.0, ..., nan, nan, 128.0],\n",
       "       ['NOR', 'RB', 24.0, ..., nan, 1.1, 153.0],\n",
       "       ['KAN', nan, 23.0, ..., nan, nan, 125.0]], dtype=object)"
      ]
     },
     "execution_count": 11,
     "metadata": {},
     "output_type": "execute_result"
    }
   ],
   "source": [
    "# split the data into inputs and labels\n",
    "X = data[:, 1:23]\n",
    "y = data[:, 23]\n",
    "X"
   ]
  }
 ],
 "metadata": {
  "kernelspec": {
   "display_name": "Python 3 (ipykernel)",
   "language": "python",
   "name": "python3"
  },
  "language_info": {
   "codemirror_mode": {
    "name": "ipython",
    "version": 3
   },
   "file_extension": ".py",
   "mimetype": "text/x-python",
   "name": "python",
   "nbconvert_exporter": "python",
   "pygments_lexer": "ipython3",
   "version": "3.9.7"
  }
 },
 "nbformat": 4,
 "nbformat_minor": 5
}
