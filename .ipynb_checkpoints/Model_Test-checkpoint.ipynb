{
 "cells": [
  {
   "cell_type": "code",
   "execution_count": 24,
   "id": "0d8a0875",
   "metadata": {},
   "outputs": [],
   "source": [
    "import pandas as pd\n",
    "import numpy as np\n",
    "\n",
    "import sklearn\n",
    "from sklearn.neighbors import KNeighborsRegressor\n",
    "from sklearn.linear_model import LinearRegression\n",
    "from sklearn.neural_network import MLPRegressor\n",
    "from sklearn.metrics import confusion_matrix\n",
    "from sklearn.model_selection import KFold\n",
    "from sklearn.metrics import mean_squared_error\n",
    "from sklearn.preprocessing import RobustScaler"
   ]
  },
  {
   "cell_type": "code",
   "execution_count": 21,
   "id": "b2bab87f",
   "metadata": {},
   "outputs": [],
   "source": [
    "# import the data into a df\n",
    "df = pd.read_csv(\"data/learning_data.csv\")\n",
    "data = df.to_numpy()\n",
    "\n",
    "#normalize and shuffle the data\n",
    "np.random.shuffle(data)\n",
    "scaler = RobustScaler()\n",
    "data = scaler.fit_transform(data)\n",
    "\n",
    "# split the data into inputs and labels\n",
    "X = data[:, 1:22]\n",
    "y = data[:, 22]\n",
    "X = np.array(X, dtype=float)\n",
    "y = np.array(y, dtype=float)"
   ]
  },
  {
   "cell_type": "code",
   "execution_count": 22,
   "id": "2bb0a1ff",
   "metadata": {},
   "outputs": [
    {
     "name": "stdout",
     "output_type": "stream",
     "text": [
      "Average mean squared error: 2657.687583128439\n"
     ]
    }
   ],
   "source": [
    "knn = KNeighborsRegressor(n_neighbors=5)\n",
    "knn_mse = []\n",
    "\n",
    "kfolds = KFold(n_splits=10);\n",
    "for train_index,test_index in kfolds.split(X, y):\n",
    "    ## split the data\n",
    "    X_train, X_test, y_train, y_test = X[train_index], X[test_index], y[train_index], y[test_index];\n",
    "    \n",
    "    knn.fit(X_train, y_train);\n",
    "    y_pred = np.around(knn.predict(X_test));\n",
    "            \n",
    "    knn_mse.append(mean_squared_error(y_pred, y_test))\n",
    "    \n",
    "print('Average mean squared error:', np.mean(knn_mse))"
   ]
  },
  {
   "cell_type": "code",
   "execution_count": 23,
   "id": "89dac6b0",
   "metadata": {},
   "outputs": [
    {
     "name": "stdout",
     "output_type": "stream",
     "text": [
      "Average mean squared error: 2311.1302335792066\n"
     ]
    }
   ],
   "source": [
    "mlp = MLPRegressor(hidden_layer_sizes=(100,50,20), max_iter=300, activation='relu', random_state=1)\n",
    "mlp_mse = []\n",
    "\n",
    "kfolds = KFold(n_splits=10);\n",
    "for train_index,test_index in kfolds.split(X, y):\n",
    "    ## split the data\n",
    "    X_train, X_test, y_train, y_test = X[train_index], X[test_index], y[train_index], y[test_index];\n",
    "    \n",
    "    mlp.fit(X_train, y_train);\n",
    "    y_pred = np.around(mlp.predict(X_test));\n",
    "    mlp_mse.append(mean_squared_error(y_pred, y_test))\n",
    "    \n",
    "print('Average mean squared error:', np.mean(mlp_mse))"
   ]
  }
 ],
 "metadata": {
  "kernelspec": {
   "display_name": "Python 3 (ipykernel)",
   "language": "python",
   "name": "python3"
  },
  "language_info": {
   "codemirror_mode": {
    "name": "ipython",
    "version": 3
   },
   "file_extension": ".py",
   "mimetype": "text/x-python",
   "name": "python",
   "nbconvert_exporter": "python",
   "pygments_lexer": "ipython3",
   "version": "3.9.7"
  }
 },
 "nbformat": 4,
 "nbformat_minor": 5
}
