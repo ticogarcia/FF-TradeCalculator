{
 "cells": [
  {
   "cell_type": "code",
   "execution_count": 94,
   "id": "0d8a0875",
   "metadata": {},
   "outputs": [],
   "source": [
    "import pandas as pd\n",
    "import numpy as np\n",
    "\n",
    "import sklearn\n",
    "from sklearn.neighbors import KNeighborsRegressor\n",
    "from sklearn.linear_model import LinearRegression\n",
    "from sklearn.neural_network import MLPRegressor\n",
    "from sklearn.metrics import confusion_matrix\n",
    "from sklearn.model_selection import KFold\n",
    "from sklearn.metrics import mean_squared_error\n",
    "from sklearn.metrics import mean_absolute_error\n",
    "from sklearn.preprocessing import RobustScaler"
   ]
  },
  {
   "cell_type": "code",
   "execution_count": 95,
   "id": "b2bab87f",
   "metadata": {},
   "outputs": [],
   "source": [
    "# import the data into a df\n",
    "df = pd.read_csv(\"data/learning_data.csv\")\n",
    "data = df.to_numpy()\n",
    "\n",
    "#shuffle the data\n",
    "np.random.shuffle(data)\n",
    "\n",
    "# split the data into inputs and labels\n",
    "X = data[:, 1:20]\n",
    "y = data[:, 20]\n",
    "X = np.array(X, dtype=float)\n",
    "y = np.array(y, dtype=float)\n",
    "\n",
    "# normalize the data\n",
    "scaler = RobustScaler()\n",
    "X = scaler.fit_transform(X)\n",
    "#y = scaler.fit_transform(y)"
   ]
  },
  {
   "cell_type": "code",
   "execution_count": 96,
   "id": "2bb0a1ff",
   "metadata": {},
   "outputs": [
    {
     "name": "stdout",
     "output_type": "stream",
     "text": [
      "Average mean absolute error: 0.2811012129315923\n"
     ]
    }
   ],
   "source": [
    "knn = KNeighborsRegressor(n_neighbors=5)\n",
    "knn_mse = []\n",
    "knn_mae = []\n",
    "\n",
    "kfolds = KFold(n_splits=10);\n",
    "for train_index,test_index in kfolds.split(X, y):\n",
    "    ## split the data\n",
    "    X_train, X_test, y_train, y_test = X[train_index], X[test_index], y[train_index], y[test_index];\n",
    "    \n",
    "    knn.fit(X_train, y_train);\n",
    "    y_pred = np.around(knn.predict(X_test));\n",
    "            \n",
    "#     knn_mse.append(mean_squared_error(y_pred, y_test))\n",
    "#     knn_mae.append(mean_absolute_error(y_pred, y_test))\n",
    "    p_error = []\n",
    "    for i in range(y_test.size):\n",
    "        p_error.append(abs(y_test[i] - y_pred[i]) / y_test[i])\n",
    "    \n",
    "    knn_mae.append(sum(p_error) / y_test.size)\n",
    "    \n",
    "# print('Average mean squared error:', np.mean(knn_mse))\n",
    "print('Average mean absolute error:', np.mean(knn_mae))"
   ]
  },
  {
   "cell_type": "code",
   "execution_count": 97,
   "id": "6fcb5adc",
   "metadata": {},
   "outputs": [
    {
     "name": "stdout",
     "output_type": "stream",
     "text": [
      "Average mean absolute error: 0.2563325259905026\n"
     ]
    }
   ],
   "source": [
    "import warnings\n",
    "warnings.filterwarnings('ignore')\n",
    "\n",
    "mlp = MLPRegressor(hidden_layer_sizes=(100,50,20), max_iter=300, activation='relu', random_state=1)\n",
    "mlp_mse = []\n",
    "mlp_mae = []\n",
    "\n",
    "kfolds = KFold(n_splits=10);\n",
    "for train_index,test_index in kfolds.split(X, y):\n",
    "    ## split the data\n",
    "    X_train, X_test, y_train, y_test = X[train_index], X[test_index], y[train_index], y[test_index];\n",
    "    \n",
    "    mlp.fit(X_train, y_train);\n",
    "    y_pred = np.around(mlp.predict(X_test));\n",
    "    \n",
    "    p_error = []\n",
    "    for i in range(y_test.size):\n",
    "        p_error.append(abs(y_test[i] - y_pred[i]) / y_test[i])\n",
    "    \n",
    "    mlp_mae.append(sum(p_error) / y_test.size)\n",
    "    \n",
    "#print('Average mean squared error:', np.mean(mlp_mse))\n",
    "print('Average mean absolute error:', np.mean(mlp_mae))"
   ]
  },
  {
   "cell_type": "code",
   "execution_count": 98,
   "id": "c6f35a9b",
   "metadata": {},
   "outputs": [
    {
     "name": "stdout",
     "output_type": "stream",
     "text": [
      "Average mean absolute error for RandomForestRegressor: 0.26713150853624146\n",
      "Average mean absolute error for GradientBoostingRegressor: 0.26304367107065435\n"
     ]
    }
   ],
   "source": [
    "import warnings\n",
    "from sklearn.ensemble import RandomForestRegressor, GradientBoostingRegressor\n",
    "from sklearn.model_selection import KFold\n",
    "import numpy as np\n",
    "\n",
    "warnings.filterwarnings('ignore')\n",
    "\n",
    "# Initialize models\n",
    "rf = RandomForestRegressor(random_state=1)\n",
    "gb = GradientBoostingRegressor(random_state=1)\n",
    "\n",
    "# Initialize error lists for each model\n",
    "rf_mae = []\n",
    "gb_mae = []\n",
    "\n",
    "kfolds = KFold(n_splits=10)\n",
    "for train_index, test_index in kfolds.split(X, y):\n",
    "    # Split the data\n",
    "    X_train, X_test, y_train, y_test = X[train_index], X[test_index], y[train_index], y[test_index]\n",
    "    \n",
    "    # Train and predict with RandomForestRegressor\n",
    "    rf.fit(X_train, y_train)\n",
    "    y_pred_rf = np.around(rf.predict(X_test))\n",
    "    rf_error = [abs(y_test[i] - y_pred_rf[i]) / y_test[i] for i in range(y_test.size)]\n",
    "    rf_mae.append(np.mean(rf_error))\n",
    "\n",
    "    # Train and predict with GradientBoostingRegressor\n",
    "    gb.fit(X_train, y_train)\n",
    "    y_pred_gb = np.around(gb.predict(X_test))\n",
    "    gb_error = [abs(y_test[i] - y_pred_gb[i]) / y_test[i] for i in range(y_test.size)]\n",
    "    gb_mae.append(np.mean(gb_error))\n",
    "\n",
    "# Print average mean absolute errors\n",
    "print('Average mean absolute error for RandomForestRegressor:', np.mean(rf_mae))\n",
    "print('Average mean absolute error for GradientBoostingRegressor:', np.mean(gb_mae))\n"
   ]
  },
  {
   "cell_type": "code",
   "execution_count": 99,
   "id": "758f2db3",
   "metadata": {},
   "outputs": [],
   "source": [
    "# import the data into a df\n",
    "test_df = pd.read_csv(\"data/Player_2022_cleaned_copy.csv\")\n",
    "test_data = test_df.to_numpy()\n",
    "\n",
    "#shuffle the data\n",
    "#np.random.shuffle(data)\n",
    "\n",
    "# split the data into inputs and labels\n",
    "X_test = test_data[:, 3:22]\n",
    "\n",
    "X_test = np.array(X_test, dtype=float)\n",
    "\n",
    "# normalize the data\n",
    "scaler = RobustScaler()\n",
    "X_test = scaler.fit_transform(X_test)\n",
    "#y = scaler.fit_transform(y)"
   ]
  },
  {
   "cell_type": "code",
   "execution_count": 102,
   "id": "bad17842",
   "metadata": {},
   "outputs": [],
   "source": [
    "import pandas as pd\n",
    "from sklearn.ensemble import RandomForestRegressor # or any other model you have used\n",
    "\n",
    "# Make predictions\n",
    "predictions = gb.predict(X_test)\n",
    "\n",
    "# Add predictions to DataFrame and save to new CSV (optional)\n",
    "test_df['Predictions'] = predictions\n",
    "test_df.to_csv('data/predictions.csv', index=False)\n"
   ]
  },
  {
   "cell_type": "code",
   "execution_count": null,
   "id": "2fbfe8db",
   "metadata": {},
   "outputs": [],
   "source": []
  }
 ],
 "metadata": {
  "kernelspec": {
   "display_name": "Python 3 (ipykernel)",
   "language": "python",
   "name": "python3"
  },
  "language_info": {
   "codemirror_mode": {
    "name": "ipython",
    "version": 3
   },
   "file_extension": ".py",
   "mimetype": "text/x-python",
   "name": "python",
   "nbconvert_exporter": "python",
   "pygments_lexer": "ipython3",
   "version": "3.9.7"
  }
 },
 "nbformat": 4,
 "nbformat_minor": 5
}