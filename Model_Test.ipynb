{
 "cells": [
  {
   "cell_type": "code",
   "execution_count": 18,
   "id": "0d8a0875",
   "metadata": {},
   "outputs": [],
   "source": [
    "import pandas as pd\n",
    "import numpy as np\n",
    "\n",
    "import sklearn\n",
    "from sklearn.neighbors import KNeighborsRegressor\n",
    "from sklearn.linear_model import LinearRegression\n",
    "from sklearn.neural_network import MLPRegressor\n",
    "from sklearn.metrics import confusion_matrix\n",
    "from sklearn.model_selection import KFold\n",
    "from sklearn.metrics import mean_squared_error\n",
    "from sklearn.metrics import mean_absolute_error\n",
    "from sklearn.preprocessing import RobustScaler"
   ]
  },
  {
   "cell_type": "code",
   "execution_count": 19,
   "id": "b2bab87f",
   "metadata": {},
   "outputs": [],
   "source": [
    "# import the data into a df\n",
    "df = pd.read_csv(\"data/learning_data.csv\")\n",
    "data = df.to_numpy()\n",
    "\n",
    "#shuffle the data\n",
    "np.random.shuffle(data)\n",
    "\n",
    "# split the data into inputs and labels\n",
    "X = data[:, 1:22]\n",
    "y = data[:, 22]\n",
    "X = np.array(X, dtype=float)\n",
    "y = np.array(y, dtype=float)\n",
    "\n",
    "# normalize the data\n",
    "scaler = RobustScaler()\n",
    "X = scaler.fit_transform(X)\n",
    "#y = scaler.fit_transform(y)"
   ]
  },
  {
   "cell_type": "code",
   "execution_count": 22,
   "id": "2bb0a1ff",
   "metadata": {},
   "outputs": [
    {
     "name": "stdout",
     "output_type": "stream",
     "text": [
      "Average mean absolute error: 0.18786195646623047\n"
     ]
    }
   ],
   "source": [
    "knn = KNeighborsRegressor(n_neighbors=5)\n",
    "knn_mse = []\n",
    "knn_mae = []\n",
    "\n",
    "kfolds = KFold(n_splits=10);\n",
    "for train_index,test_index in kfolds.split(X, y):\n",
    "    ## split the data\n",
    "    X_train, X_test, y_train, y_test = X[train_index], X[test_index], y[train_index], y[test_index];\n",
    "    \n",
    "    knn.fit(X_train, y_train);\n",
    "    y_pred = np.around(knn.predict(X_test));\n",
    "            \n",
    "#     knn_mse.append(mean_squared_error(y_pred, y_test))\n",
    "#     knn_mae.append(mean_absolute_error(y_pred, y_test))\n",
    "    p_error = []\n",
    "    for i in range(y_test.size):\n",
    "        p_error.append(abs(y_test[i] - y_pred[i]) / y_test[i])\n",
    "    \n",
    "    knn_mae.append(sum(p_error) / y_test.size)\n",
    "    \n",
    "# print('Average mean squared error:', np.mean(knn_mse))\n",
    "print('Average mean absolute error:', np.mean(knn_mae))"
   ]
  },
  {
   "cell_type": "code",
   "execution_count": 21,
   "id": "6fcb5adc",
   "metadata": {},
   "outputs": [
    {
     "name": "stdout",
     "output_type": "stream",
     "text": [
      "191.0\n",
      "151.0\n",
      "155.0\n",
      "157.0\n",
      "176.0\n",
      "231.0\n",
      "147.0\n",
      "151.0\n",
      "342.0\n",
      "256.0\n",
      "355.0\n",
      "240.0\n",
      "249.0\n",
      "268.0\n",
      "132.0\n",
      "200.0\n",
      "202.0\n",
      "180.0\n",
      "161.0\n",
      "175.0\n",
      "Average mean absolute error: 0.17349583805889138\n"
     ]
    }
   ],
   "source": [
    "import warnings\n",
    "warnings.filterwarnings('ignore')\n",
    "\n",
    "mlp = MLPRegressor(hidden_layer_sizes=(100,50,20), max_iter=300, activation='relu', random_state=1)\n",
    "mlp_mse = []\n",
    "mlp_mae = []\n",
    "\n",
    "kfolds = KFold(n_splits=10);\n",
    "for train_index,test_index in kfolds.split(X, y):\n",
    "    ## split the data\n",
    "    X_train, X_test, y_train, y_test = X[train_index], X[test_index], y[train_index], y[test_index];\n",
    "    \n",
    "    mlp.fit(X_train, y_train);\n",
    "    y_pred = np.around(mlp.predict(X_test));\n",
    "    \n",
    "    p_error = []\n",
    "    for i in range(y_test.size):\n",
    "        p_error.append(abs(y_test[i] - y_pred[i]) / y_test[i])\n",
    "    \n",
    "    mlp_mae.append(sum(p_error) / y_test.size)\n",
    "    \n",
    "#print('Average mean squared error:', np.mean(mlp_mse))\n",
    "print('Average mean absolute error:', np.mean(mlp_mae))"
   ]
  }
 ],
 "metadata": {
  "kernelspec": {
   "display_name": "Python 3 (ipykernel)",
   "language": "python",
   "name": "python3"
  },
  "language_info": {
   "codemirror_mode": {
    "name": "ipython",
    "version": 3
   },
   "file_extension": ".py",
   "mimetype": "text/x-python",
   "name": "python",
   "nbconvert_exporter": "python",
   "pygments_lexer": "ipython3",
   "version": "3.9.7"
  }
 },
 "nbformat": 4,
 "nbformat_minor": 5
}
